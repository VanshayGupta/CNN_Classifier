{
 "cells": [
  {
   "cell_type": "markdown",
   "metadata": {
    "colab_type": "text",
    "id": "3DR-eO17geWu"
   },
   "source": [
    "# Convolutional Neural Network"
   ]
  },
  {
   "cell_type": "markdown",
   "metadata": {
    "colab_type": "text",
    "id": "EMefrVPCg-60"
   },
   "source": [
    "### Importing the libraries"
   ]
  },
  {
   "cell_type": "code",
   "execution_count": 1,
   "metadata": {
    "colab": {},
    "colab_type": "code",
    "id": "sCV30xyVhFbE"
   },
   "outputs": [
    {
     "name": "stderr",
     "output_type": "stream",
     "text": [
      "Using TensorFlow backend.\n"
     ]
    }
   ],
   "source": [
    "import tensorflow as tf\n",
    "from keras.preprocessing.image import ImageDataGenerator"
   ]
  },
  {
   "cell_type": "code",
   "execution_count": 2,
   "metadata": {
    "colab": {},
    "colab_type": "code",
    "id": "FIleuCAjoFD8"
   },
   "outputs": [
    {
     "data": {
      "text/plain": [
       "'1.15.0'"
      ]
     },
     "execution_count": 2,
     "metadata": {},
     "output_type": "execute_result"
    }
   ],
   "source": [
    "tf.__version__"
   ]
  },
  {
   "cell_type": "markdown",
   "metadata": {
    "colab_type": "text",
    "id": "oxQxCBWyoGPE"
   },
   "source": [
    "## Part 1 - Data Preprocessing"
   ]
  },
  {
   "cell_type": "markdown",
   "metadata": {
    "colab_type": "text",
    "id": "MvE-heJNo3GG"
   },
   "source": [
    "### Preprocessing the Training set"
   ]
  },
  {
   "cell_type": "code",
   "execution_count": 3,
   "metadata": {
    "colab": {},
    "colab_type": "code",
    "id": "0koUcJMJpEBD"
   },
   "outputs": [
    {
     "name": "stdout",
     "output_type": "stream",
     "text": [
      "Found 8000 images belonging to 2 classes.\n"
     ]
    }
   ],
   "source": [
    "train_datagen = ImageDataGenerator(rescale = 1./255,\n",
    "                                   shear_range = 0.2,\n",
    "                                   zoom_range = 0.2,\n",
    "                                   horizontal_flip = True)\n",
    "training_set = train_datagen.flow_from_directory('dataset/training_set',\n",
    "                                                 target_size = (64, 64),\n",
    "                                                 batch_size = 32,\n",
    "                                                 class_mode = 'binary')"
   ]
  },
  {
   "cell_type": "markdown",
   "metadata": {
    "colab_type": "text",
    "id": "mrCMmGw9pHys"
   },
   "source": [
    "### Preprocessing the Test set"
   ]
  },
  {
   "cell_type": "code",
   "execution_count": 4,
   "metadata": {
    "colab": {},
    "colab_type": "code",
    "id": "SH4WzfOhpKc3"
   },
   "outputs": [
    {
     "name": "stdout",
     "output_type": "stream",
     "text": [
      "Found 2000 images belonging to 2 classes.\n"
     ]
    }
   ],
   "source": [
    "test_datagen = ImageDataGenerator(rescale = 1./255)\n",
    "test_set = test_datagen.flow_from_directory('dataset/test_set',\n",
    "                                            target_size = (64, 64),\n",
    "                                            batch_size = 32,\n",
    "                                            class_mode = 'binary')"
   ]
  },
  {
   "cell_type": "markdown",
   "metadata": {
    "colab_type": "text",
    "id": "af8O4l90gk7B"
   },
   "source": [
    "## Part 2 - Building the CNN"
   ]
  },
  {
   "cell_type": "markdown",
   "metadata": {
    "colab_type": "text",
    "id": "ces1gXY2lmoX"
   },
   "source": [
    "### Initialising the CNN"
   ]
  },
  {
   "cell_type": "code",
   "execution_count": 5,
   "metadata": {
    "colab": {},
    "colab_type": "code",
    "id": "SAUt4UMPlhLS"
   },
   "outputs": [],
   "source": [
    "cnn = tf.keras.models.Sequential()"
   ]
  },
  {
   "cell_type": "markdown",
   "metadata": {
    "colab_type": "text",
    "id": "u5YJj_XMl5LF"
   },
   "source": [
    "### Step 1 - Convolution"
   ]
  },
  {
   "cell_type": "code",
   "execution_count": 8,
   "metadata": {
    "colab": {},
    "colab_type": "code",
    "id": "XPzPrMckl-hV"
   },
   "outputs": [],
   "source": [
    "cnn.add(tf.keras.layers.Conv2D(filters=32, kernel_size=3, activation='relu', input_shape=[64, 64, 3]))"
   ]
  },
  {
   "cell_type": "markdown",
   "metadata": {
    "colab_type": "text",
    "id": "tf87FpvxmNOJ"
   },
   "source": [
    "### Step 2 - Pooling"
   ]
  },
  {
   "cell_type": "code",
   "execution_count": 9,
   "metadata": {
    "colab": {},
    "colab_type": "code",
    "id": "ncpqPl69mOac"
   },
   "outputs": [],
   "source": [
    "cnn.add(tf.keras.layers.MaxPool2D(pool_size=2, strides=2))"
   ]
  },
  {
   "cell_type": "markdown",
   "metadata": {
    "colab_type": "text",
    "id": "xaTOgD8rm4mU"
   },
   "source": [
    "### Adding a second convolutional layer"
   ]
  },
  {
   "cell_type": "code",
   "execution_count": 10,
   "metadata": {
    "colab": {},
    "colab_type": "code",
    "id": "i_-FZjn_m8gk"
   },
   "outputs": [],
   "source": [
    "cnn.add(tf.keras.layers.Conv2D(filters=32, kernel_size=3, activation='relu', input_shape=[64, 64, 3]))\n",
    "cnn.add(tf.keras.layers.MaxPool2D(pool_size=2, strides=2))"
   ]
  },
  {
   "cell_type": "markdown",
   "metadata": {
    "colab_type": "text",
    "id": "tmiEuvTunKfk"
   },
   "source": [
    "### Step 3 - Flattening"
   ]
  },
  {
   "cell_type": "code",
   "execution_count": 11,
   "metadata": {
    "colab": {},
    "colab_type": "code",
    "id": "6AZeOGCvnNZn"
   },
   "outputs": [],
   "source": [
    "cnn.add(tf.keras.layers.Flatten())"
   ]
  },
  {
   "cell_type": "markdown",
   "metadata": {
    "colab_type": "text",
    "id": "dAoSECOm203v"
   },
   "source": [
    "### Step 4 - Full Connection"
   ]
  },
  {
   "cell_type": "code",
   "execution_count": 12,
   "metadata": {
    "colab": {},
    "colab_type": "code",
    "id": "8GtmUlLd26Nq"
   },
   "outputs": [],
   "source": [
    "cnn.add(tf.keras.layers.Dense(units=128, activation='relu'))"
   ]
  },
  {
   "cell_type": "markdown",
   "metadata": {
    "colab_type": "text",
    "id": "yTldFvbX28Na"
   },
   "source": [
    "### Step 5 - Output Layer"
   ]
  },
  {
   "cell_type": "code",
   "execution_count": 13,
   "metadata": {
    "colab": {},
    "colab_type": "code",
    "id": "1p_Zj1Mc3Ko_"
   },
   "outputs": [],
   "source": [
    "cnn.add(tf.keras.layers.Dense(units=1, activation='sigmoid'))"
   ]
  },
  {
   "cell_type": "markdown",
   "metadata": {
    "colab_type": "text",
    "id": "D6XkI90snSDl"
   },
   "source": [
    "## Part 3 - Training the CNN"
   ]
  },
  {
   "cell_type": "markdown",
   "metadata": {
    "colab_type": "text",
    "id": "vfrFQACEnc6i"
   },
   "source": [
    "### Compiling the CNN"
   ]
  },
  {
   "cell_type": "code",
   "execution_count": 14,
   "metadata": {
    "colab": {},
    "colab_type": "code",
    "id": "NALksrNQpUlJ"
   },
   "outputs": [
    {
     "name": "stdout",
     "output_type": "stream",
     "text": [
      "WARNING:tensorflow:From C:\\Users\\g_abh\\Anaconda3\\envs\\test\\lib\\site-packages\\tensorflow_core\\python\\ops\\nn_impl.py:183: where (from tensorflow.python.ops.array_ops) is deprecated and will be removed in a future version.\n",
      "Instructions for updating:\n",
      "Use tf.where in 2.0, which has the same broadcast rule as np.where\n"
     ]
    }
   ],
   "source": [
    "cnn.compile(optimizer = 'adam', loss = 'binary_crossentropy', metrics = ['accuracy'])"
   ]
  },
  {
   "cell_type": "markdown",
   "metadata": {
    "colab_type": "text",
    "id": "ehS-v3MIpX2h"
   },
   "source": [
    "### Training the CNN on the Training set and evaluating it on the Test set"
   ]
  },
  {
   "cell_type": "code",
   "execution_count": 15,
   "metadata": {
    "colab": {},
    "colab_type": "code",
    "id": "XUj1W4PJptta"
   },
   "outputs": [
    {
     "name": "stdout",
     "output_type": "stream",
     "text": [
      "Epoch 1/25\n",
      "249/250 [============================>.] - ETA: 0s - loss: 0.6860 - acc: 0.5499Epoch 1/25\n",
      "250/250 [==============================] - 293s 1s/step - loss: 0.6856 - acc: 0.5505 - val_loss: 0.6405 - val_acc: 0.6375\n",
      "Epoch 2/25\n",
      "249/250 [============================>.] - ETA: 0s - loss: 0.6171 - acc: 0.6529Epoch 1/25\n",
      "250/250 [==============================] - 108s 433ms/step - loss: 0.6170 - acc: 0.6529 - val_loss: 0.5921 - val_acc: 0.6845\n",
      "Epoch 3/25\n",
      "249/250 [============================>.] - ETA: 0s - loss: 0.5576 - acc: 0.7150Epoch 1/25\n",
      "250/250 [==============================] - 109s 438ms/step - loss: 0.5579 - acc: 0.7149 - val_loss: 0.5213 - val_acc: 0.7445\n",
      "Epoch 4/25\n",
      "249/250 [============================>.] - ETA: 0s - loss: 0.5138 - acc: 0.7401Epoch 1/25\n",
      "250/250 [==============================] - 107s 428ms/step - loss: 0.5142 - acc: 0.7399 - val_loss: 0.5005 - val_acc: 0.7540\n",
      "Epoch 5/25\n",
      "249/250 [============================>.] - ETA: 0s - loss: 0.4868 - acc: 0.7646Epoch 1/25\n",
      "250/250 [==============================] - 109s 435ms/step - loss: 0.4865 - acc: 0.7646 - val_loss: 0.4647 - val_acc: 0.7860\n",
      "Epoch 6/25\n",
      "249/250 [============================>.] - ETA: 0s - loss: 0.4556 - acc: 0.7802Epoch 1/25\n",
      "250/250 [==============================] - 111s 444ms/step - loss: 0.4553 - acc: 0.7805 - val_loss: 0.4748 - val_acc: 0.7850\n",
      "Epoch 7/25\n",
      "249/250 [============================>.] - ETA: 0s - loss: 0.4274 - acc: 0.7987Epoch 1/25\n",
      "250/250 [==============================] - 110s 442ms/step - loss: 0.4273 - acc: 0.7989 - val_loss: 0.4484 - val_acc: 0.7885\n",
      "Epoch 8/25\n",
      "249/250 [============================>.] - ETA: 0s - loss: 0.4186 - acc: 0.8058Epoch 1/25\n",
      "250/250 [==============================] - 109s 437ms/step - loss: 0.4180 - acc: 0.8061 - val_loss: 0.4312 - val_acc: 0.8055\n",
      "Epoch 9/25\n",
      "249/250 [============================>.] - ETA: 0s - loss: 0.4024 - acc: 0.8084Epoch 1/25\n",
      "250/250 [==============================] - 110s 439ms/step - loss: 0.4028 - acc: 0.8080 - val_loss: 0.4291 - val_acc: 0.8065\n",
      "Epoch 10/25\n",
      "249/250 [============================>.] - ETA: 0s - loss: 0.3769 - acc: 0.8235Epoch 1/25\n",
      "250/250 [==============================] - 110s 440ms/step - loss: 0.3766 - acc: 0.8240 - val_loss: 0.4173 - val_acc: 0.8130\n",
      "Epoch 11/25\n",
      "249/250 [============================>.] - ETA: 0s - loss: 0.3586 - acc: 0.8385Epoch 1/25\n",
      "250/250 [==============================] - 111s 443ms/step - loss: 0.3588 - acc: 0.8382 - val_loss: 0.4485 - val_acc: 0.8035\n",
      "Epoch 12/25\n",
      "249/250 [============================>.] - ETA: 0s - loss: 0.3529 - acc: 0.8422Epoch 1/25\n",
      "250/250 [==============================] - 109s 436ms/step - loss: 0.3524 - acc: 0.8425 - val_loss: 0.4216 - val_acc: 0.8195\n",
      "Epoch 13/25\n",
      "249/250 [============================>.] - ETA: 0s - loss: 0.3422 - acc: 0.8505Epoch 1/25\n",
      "250/250 [==============================] - 110s 440ms/step - loss: 0.3420 - acc: 0.8508 - val_loss: 0.4348 - val_acc: 0.8135\n",
      "Epoch 14/25\n",
      "249/250 [============================>.] - ETA: 0s - loss: 0.3294 - acc: 0.8563Epoch 1/25\n",
      "250/250 [==============================] - 112s 449ms/step - loss: 0.3299 - acc: 0.8559 - val_loss: 0.4033 - val_acc: 0.8245\n",
      "Epoch 15/25\n",
      "249/250 [============================>.] - ETA: 0s - loss: 0.3151 - acc: 0.8655Epoch 1/25\n",
      "250/250 [==============================] - 111s 443ms/step - loss: 0.3145 - acc: 0.8659 - val_loss: 0.4500 - val_acc: 0.8105\n",
      "Epoch 16/25\n",
      "249/250 [============================>.] - ETA: 0s - loss: 0.3013 - acc: 0.8687Epoch 1/25\n",
      "250/250 [==============================] - 110s 441ms/step - loss: 0.3018 - acc: 0.8681 - val_loss: 0.5431 - val_acc: 0.7720\n",
      "Epoch 17/25\n",
      "249/250 [============================>.] - ETA: 0s - loss: 0.2824 - acc: 0.8774Epoch 1/25\n",
      "250/250 [==============================] - 112s 449ms/step - loss: 0.2833 - acc: 0.8770 - val_loss: 0.4535 - val_acc: 0.8190\n",
      "Epoch 18/25\n",
      "249/250 [============================>.] - ETA: 0s - loss: 0.2738 - acc: 0.8804Epoch 1/25\n",
      "250/250 [==============================] - 109s 438ms/step - loss: 0.2734 - acc: 0.8804 - val_loss: 0.4207 - val_acc: 0.8265\n",
      "Epoch 19/25\n",
      "249/250 [============================>.] - ETA: 0s - loss: 0.2743 - acc: 0.8806Epoch 1/25\n",
      "250/250 [==============================] - 110s 439ms/step - loss: 0.2740 - acc: 0.8809 - val_loss: 0.4213 - val_acc: 0.8270\n",
      "Epoch 20/25\n",
      "249/250 [============================>.] - ETA: 0s - loss: 0.2515 - acc: 0.8966Epoch 1/25\n",
      "250/250 [==============================] - 111s 445ms/step - loss: 0.2514 - acc: 0.8966 - val_loss: 0.4508 - val_acc: 0.8205\n",
      "Epoch 21/25\n",
      "249/250 [============================>.] - ETA: 0s - loss: 0.2304 - acc: 0.9011Epoch 1/25\n",
      "250/250 [==============================] - 115s 460ms/step - loss: 0.2301 - acc: 0.9014 - val_loss: 0.4506 - val_acc: 0.8305\n",
      "Epoch 22/25\n",
      "249/250 [============================>.] - ETA: 0s - loss: 0.2277 - acc: 0.9036Epoch 1/25\n",
      "250/250 [==============================] - 110s 439ms/step - loss: 0.2274 - acc: 0.9039 - val_loss: 0.4458 - val_acc: 0.8330\n",
      "Epoch 23/25\n",
      "249/250 [============================>.] - ETA: 0s - loss: 0.2092 - acc: 0.9120Epoch 1/25\n",
      "250/250 [==============================] - 110s 440ms/step - loss: 0.2091 - acc: 0.9120 - val_loss: 0.4840 - val_acc: 0.8305\n",
      "Epoch 24/25\n",
      "249/250 [============================>.] - ETA: 0s - loss: 0.2104 - acc: 0.9118Epoch 1/25\n",
      "250/250 [==============================] - 108s 432ms/step - loss: 0.2105 - acc: 0.9118 - val_loss: 0.4586 - val_acc: 0.8365\n",
      "Epoch 25/25\n",
      "249/250 [============================>.] - ETA: 0s - loss: 0.1987 - acc: 0.9167Epoch 1/25\n",
      "250/250 [==============================] - 108s 433ms/step - loss: 0.1984 - acc: 0.9168 - val_loss: 0.4901 - val_acc: 0.8330\n"
     ]
    },
    {
     "data": {
      "text/plain": [
       "<tensorflow.python.keras.callbacks.History at 0x1f7451057c8>"
      ]
     },
     "execution_count": 15,
     "metadata": {},
     "output_type": "execute_result"
    }
   ],
   "source": [
    "cnn.fit(x = training_set, validation_data = test_set, epochs = 25)"
   ]
  },
  {
   "cell_type": "markdown",
   "metadata": {
    "colab_type": "text",
    "id": "U3PZasO0006Z"
   },
   "source": [
    "## Part 4 - Making a single prediction"
   ]
  },
  {
   "cell_type": "code",
   "execution_count": 35,
   "metadata": {
    "colab": {},
    "colab_type": "code",
    "id": "gsSiWEJY1BPB"
   },
   "outputs": [],
   "source": [
    "import numpy as np\n",
    "from keras.preprocessing import image\n",
    "test_image = image.load_img('dataset/single_prediction/FB_IMG_1502040051562.jpg', target_size = (64, 64))\n",
    "test_image=image.img_to_array(test_image)\n",
    "test_image=np.expand_dims(test_image, axis=0)\n",
    "result=cnn.predict(test_image)\n",
    "training_set.class_indices\n",
    "if result[0][0] == 1:\n",
    "  prediction = 'dog'\n",
    "else:\n",
    "  prediction = 'cat'"
   ]
  },
  {
   "cell_type": "code",
   "execution_count": 36,
   "metadata": {
    "colab": {},
    "colab_type": "code",
    "id": "ED9KB3I54c1i"
   },
   "outputs": [
    {
     "name": "stdout",
     "output_type": "stream",
     "text": [
      "dog\n"
     ]
    }
   ],
   "source": [
    "print(prediction)"
   ]
  },
  {
   "cell_type": "code",
   "execution_count": null,
   "metadata": {},
   "outputs": [],
   "source": []
  }
 ],
 "metadata": {
  "colab": {
   "collapsed_sections": [],
   "name": "Copy of convolutional_neural_network.ipynb",
   "provenance": [],
   "toc_visible": true
  },
  "kernelspec": {
   "display_name": "Python 3",
   "language": "python",
   "name": "python3"
  },
  "language_info": {
   "codemirror_mode": {
    "name": "ipython",
    "version": 3
   },
   "file_extension": ".py",
   "mimetype": "text/x-python",
   "name": "python",
   "nbconvert_exporter": "python",
   "pygments_lexer": "ipython3",
   "version": "3.7.7"
  }
 },
 "nbformat": 4,
 "nbformat_minor": 1
}
